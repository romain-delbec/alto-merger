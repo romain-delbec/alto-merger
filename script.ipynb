{
 "cells": [
  {
   "cell_type": "code",
   "execution_count": 58,
   "metadata": {},
   "outputs": [],
   "source": [
    "import os\n",
    "from dotenv import load_dotenv\n",
    "import pandas as pd\n",
    "import xml.etree.ElementTree as ET\n",
    "from fuzzywuzzy import fuzz"
   ]
  },
  {
   "cell_type": "code",
   "execution_count": 83,
   "metadata": {},
   "outputs": [
    {
     "data": {
      "text/plain": [
       "True"
      ]
     },
     "execution_count": 83,
     "metadata": {},
     "output_type": "execute_result"
    }
   ],
   "source": [
    "load_dotenv()"
   ]
  },
  {
   "cell_type": "code",
   "execution_count": 84,
   "metadata": {},
   "outputs": [],
   "source": [
    "# Get the file paths from the environment variables\n",
    "csv_file = os.getenv('CSV_FILE_PATH')\n",
    "alto_path = os.getenv('ALTO_DIR_PATH')\n",
    "\n",
    "# Check if the environment variables are set\n",
    "if csv_file is None:\n",
    "    raise ValueError(\"The environment variable 'CSV_FILE_PATH' is not set in the .env file.\")\n",
    "if alto_path is None:\n",
    "    raise ValueError(\"The environment variable 'ALTO_FILE_PATH' is not set in the .env file.\")\n",
    "\n",
    "# Read the CSV file\n",
    "df = pd.read_csv(csv_file, delimiter=';')\n",
    "df = df[['Page', 'Line', 'Text']].dropna()"
   ]
  },
  {
   "cell_type": "code",
   "execution_count": 61,
   "metadata": {},
   "outputs": [
    {
     "data": {
      "text/html": [
       "<div>\n",
       "<style scoped>\n",
       "    .dataframe tbody tr th:only-of-type {\n",
       "        vertical-align: middle;\n",
       "    }\n",
       "\n",
       "    .dataframe tbody tr th {\n",
       "        vertical-align: top;\n",
       "    }\n",
       "\n",
       "    .dataframe thead th {\n",
       "        text-align: right;\n",
       "    }\n",
       "</style>\n",
       "<table border=\"1\" class=\"dataframe\">\n",
       "  <thead>\n",
       "    <tr style=\"text-align: right;\">\n",
       "      <th></th>\n",
       "      <th>Page</th>\n",
       "      <th>Line</th>\n",
       "      <th>Text</th>\n",
       "    </tr>\n",
       "  </thead>\n",
       "  <tbody>\n",
       "    <tr>\n",
       "      <th>4</th>\n",
       "      <td>1</td>\n",
       "      <td>1</td>\n",
       "      <td>Diari de les excavacions en el poblat de TEST</td>\n",
       "    </tr>\n",
       "    <tr>\n",
       "      <th>5</th>\n",
       "      <td>1</td>\n",
       "      <td>2</td>\n",
       "      <td>Sant Andreu d’Ullastret.</td>\n",
       "    </tr>\n",
       "    <tr>\n",
       "      <th>6</th>\n",
       "      <td>1</td>\n",
       "      <td>3</td>\n",
       "      <td>Antecedents i Bibliografia – a part d’una nota...</td>\n",
       "    </tr>\n",
       "    <tr>\n",
       "      <th>7</th>\n",
       "      <td>1</td>\n",
       "      <td>4</td>\n",
       "      <td>ment publicada referent a aquest poblat, en el...</td>\n",
       "    </tr>\n",
       "    <tr>\n",
       "      <th>8</th>\n",
       "      <td>1</td>\n",
       "      <td>5</td>\n",
       "      <td>lum de VII-VIII de la Revista Empúries, corre...</td>\n",
       "    </tr>\n",
       "  </tbody>\n",
       "</table>\n",
       "</div>"
      ],
      "text/plain": [
       "  Page Line                                               Text\n",
       "4    1    1      Diari de les excavacions en el poblat de TEST\n",
       "5    1    2                           Sant Andreu d’Ullastret.\n",
       "6    1    3  Antecedents i Bibliografia – a part d’una nota...\n",
       "7    1    4  ment publicada referent a aquest poblat, en el...\n",
       "8    1    5   lum de VII-VIII de la Revista Empúries, corre..."
      ]
     },
     "execution_count": 61,
     "metadata": {},
     "output_type": "execute_result"
    }
   ],
   "source": [
    "df.head()"
   ]
  },
  {
   "cell_type": "code",
   "execution_count": 113,
   "metadata": {},
   "outputs": [],
   "source": [
    "# Function to update ALTO XML with manual transcriptions using fuzzy matching\n",
    "def update_alto_with_csv(alto_file, df, output_dir='output', similarity_threshold=70):\n",
    "    # Parse the ALTO XML file\n",
    "    tree = ET.parse(alto_file)\n",
    "    root = tree.getroot()\n",
    "\n",
    "    # Namespace dictionary for ALTO XML\n",
    "    namespaces = {'ns0': 'http://www.loc.gov/standards/alto/ns-v4#'}\n",
    "\n",
    "    # Track replaced lines and their content\n",
    "    replaced_lines = set()\n",
    "    line_contents = {}\n",
    "\n",
    "    # Iterate over each row in the CSV\n",
    "    for index, row in df.iterrows():\n",
    "        page_num = row['Page']\n",
    "        line_num = row['Line']\n",
    "        manual_text = row['Text']\n",
    "        best_match = None\n",
    "        best_score = 0\n",
    "\n",
    "        # Find the corresponding text block in the ALTO file\n",
    "        for text_block in root.findall('.//ns0:TextBlock', namespaces):\n",
    "            for text_line in text_block.findall('.//ns0:TextLine', namespaces):\n",
    "                for string in text_line.findall('.//ns0:String', namespaces):\n",
    "                    content = string.attrib.get('CONTENT', '')\n",
    "                    line_contents[(page_num, line_num)] = content\n",
    "                    # Calculate similarity score\n",
    "                    similarity_score = fuzz.ratio(content, manual_text)\n",
    "                    if similarity_score > best_score:\n",
    "                        best_score = similarity_score\n",
    "                        best_match = string\n",
    "\n",
    "        # Replace with the best match if it meets the threshold\n",
    "        if best_match is not None and best_score >= similarity_threshold:\n",
    "            best_match.attrib['CONTENT'] = manual_text\n",
    "            replaced_lines.add((page_num, line_num))\n",
    "\n",
    "    # Ensure the output directory exists\n",
    "    os.makedirs(output_dir, exist_ok=True)\n",
    "\n",
    "    # Define the output file path\n",
    "    output_file = os.path.join(output_dir, os.path.basename(alto_file))\n",
    "\n",
    "    # Write the modified ALTO XML to the output file\n",
    "    tree.write(output_file, encoding='utf-8', xml_declaration=True)\n",
    "\n",
    "    return replaced_lines, line_contents"
   ]
  },
  {
   "cell_type": "code",
   "execution_count": 114,
   "metadata": {},
   "outputs": [
    {
     "name": "stdout",
     "output_type": "stream",
     "text": [
      "Warning: Line 16 on Page 2 was not replaced in any file. Content: 'El terreny d’en Sagrera[...] [...] [...]i s’anava a firmar '\n",
      "Warning: Line 10 on Page 3* was not replaced in any file. Content: 'primer suposava que venien de  [...], i potser d’època '\n",
      "Warning: Line 18 on Page 3* was not replaced in any file. Content: 'ha  un dos, l’altre me’l donà en Cases al museu que procedeix de Casa en Ma-'\n",
      "Warning: Line 25.1 on Page 3* was not replaced in any file. Content: 'L’altra moneda la tenia el rector de Vullpellach, que es l’actual encara. '\n",
      "Warning: Line 6 on Page 4* was not replaced in any file. Content: 'Pedra del [...] de Cap Roig [...]'\n",
      "Warning: Line 6 on Page 5 was not replaced in any file. Content: '(espai en blanc)'\n",
      "Warning: Line 8 on Page 5 was not replaced in any file. Content: '(espai en blanc)'\n",
      "Warning: Line 9 on Page 5 was not replaced in any file. Content: 'Pedra [...] Cap Roig, anar a fotografiar.  ?? de Cap Roig[...] [...]; '\n",
      "Warning: Line 11 on Page 6* was not replaced in any file. Content: 'C = mur dret de la torre nº1, “               ” més irregulars que els anteriors                                                                          '\n",
      "Warning: Line 12 on Page 11 was not replaced in any file. Content: 'Planta del lloc   // Perfil del mateix '\n",
      "Warning: Line 5 on Page 17* was not replaced in any file. Content: 'd’Ullastret.                                                       Necròpolis Paleocristiana o altmedieval. '\n",
      "Warning: Line Fig_009 on Page 19*  was not replaced in any file. Content: 'Perfil per A-B. '\n",
      "Warning: Line Fig_009 on Page 19* was not replaced in any file. Content: 'Necròpolis Paleocristiana del camp de Rosa Rinarena'\n",
      "Warning: Line Fig_011 on Page 20 was not replaced in any file. Content: 'Cata nº1 i ampliació, lo marcat més fort.'\n",
      "Warning: Line 18 on Page 23* was not replaced in any file. Content: 'ca d’urnes tipus cineràries, a [...] netejàvem la totalitat dels'\n",
      "Warning: Line Fig_014 on Page 25 was not replaced in any file. Content: 'Possible paret de feixa reconstruïda?'\n",
      "Warning: Line 4 on Page 26 was not replaced in any file. Content: 'les que fan de banqueta. La pedra del cim de [dalt] es moguda,'\n",
      "Warning: Line 6 on Page 28 was not replaced in any file. Content: 'teler molt [...], però com que no son cuits al foc, [...] alguns'\n",
      "Warning: Line 8 on Page 28 was not replaced in any file. Content: 'Surt un banc (muralla inferior) de pedra que [...] junt a la paret de ponent de la'\n",
      "Warning: Line 12 on Page 28 was not replaced in any file. Content: 'Fondària del banc: 0’78m ?? a?? del camí. Amplada del banc, angle'\n",
      "Warning: Line 15 on Page 28 was not replaced in any file. Content: 'Troballes                                                    '\n",
      "Warning: Line 17 on Page 28 was not replaced in any file. Content: '[...] [...] [...] al [muntar]la muralla se des-'\n",
      "Warning: Line 22 on Page 28 was not replaced in any file. Content: 'al tener que establecer enlaces  unos empalmes en [...] concretos en su coincidencia.'\n",
      "Warning: Line 12 on Page 33* was not replaced in any file. Content: 'partament 2º el III estrat es ?? per un paviment. El terreny'\n",
      "Warning: Line 9 on Page 35* was not replaced in any file. Content: 'a torn, [...] clara, escampa-'\n",
      "Warning: Line 7 on Page 36* was not replaced in any file. Content: 'El paviment que es troba a 0’90m [...]de la paret de ponent'\n",
      "Warning: Line 10 on Page 36* was not replaced in any file. Content: 'una nova separació [...] el III estrat.'\n",
      "Warning: Line 16 on Page 40* was not replaced in any file. Content: 'bat amb [...].'\n",
      "Warning: Line 20 on Page 40* was not replaced in any file. Content: 'la de llentisques  i [...] i esbarzers, que cobreixen el'\n",
      "Warning: Line 15 on Page 41* was not replaced in any file. Content: 'sorrenca [...], com una espècie de [...] (Conglomerado)'\n",
      "Warning: Line Fig_023 on Page 41* was not replaced in any file. Content: ' Carreus amb escotadura del cantó de ponent.'\n",
      "Warning: Line 14 on Page 47* was not replaced in any file. Content: 'res exterior i interior, i la [...]del mig, plena de pedres '\n",
      "Warning: Line 9 on Page 49* was not replaced in any file. Content: 'tes cabanes estessin ben ?? a la part interior al parament de la '\n",
      "Warning: Line 14 on Page 62* was not replaced in any file. Content: 'rat del camp alt d’ en Vicens Sagrera ([...] ja amb els '\n",
      "Warning: Line 22 on Page 62* was not replaced in any file. Content: 'diferents amb [...] pedruscall petit.'\n",
      "Warning: Line 1 on Page 75 was not replaced in any file. Content: '75-1  Troballes del 2º Estat, ampliació 2º, cata del S.O. [...] Dibuixats a tinta.'\n",
      "Warning: Line 9 on Page 91* was not replaced in any file. Content: 'i alguns fragments grecs.'\n",
      "Warning: Line 14 on Page 91* was not replaced in any file. Content: 'a la cara de la bomba, de l’estany [...] referència. El pare d’en Vicens Sagrera'\n",
      "Warning: Line 17 on Page 99* was not replaced in any file. Content: '[Esken o Sken ]'\n"
     ]
    }
   ],
   "source": [
    "# Process each ALTO XML file in the directory\n",
    "\n",
    "# List all files in the directory\n",
    "filenames = os.listdir(alto_path)\n",
    "\n",
    "# Filter and sort the filenames alphabetically\n",
    "xml_files = sorted([filename for filename in filenames if filename.endswith('.xml')])\n",
    "\n",
    "all_replaced_lines = set()\n",
    "all_line_contents = {}\n",
    "\n",
    "# Process each ALTO XML file in the directory\n",
    "for filename in xml_files:\n",
    "    if filename.endswith('.xml'):\n",
    "        alto_file = os.path.join(alto_path, filename)\n",
    "        replaced_lines, line_contents = update_alto_with_csv(alto_file, df)\n",
    "        all_replaced_lines.update(replaced_lines)\n",
    "        all_line_contents.update(line_contents)\n",
    "\n",
    "# Check for lines that were not replaced in any file\n",
    "for index, row in df.iterrows():\n",
    "    page_num = row['Page']\n",
    "    line_num = row['Line']\n",
    "    text = row['Text']\n",
    "    if (page_num, line_num) not in all_replaced_lines:\n",
    "        print(f\"Warning: Line {line_num} on Page {page_num} was not replaced in any file. Content: '{text}'\")"
   ]
  }
 ],
 "metadata": {
  "kernelspec": {
   "display_name": "Python 3",
   "language": "python",
   "name": "python3"
  },
  "language_info": {
   "codemirror_mode": {
    "name": "ipython",
    "version": 3
   },
   "file_extension": ".py",
   "mimetype": "text/x-python",
   "name": "python",
   "nbconvert_exporter": "python",
   "pygments_lexer": "ipython3",
   "version": "3.13.1"
  }
 },
 "nbformat": 4,
 "nbformat_minor": 2
}
