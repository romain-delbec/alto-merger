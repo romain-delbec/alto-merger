{
 "cells": [
  {
   "cell_type": "code",
   "execution_count": 58,
   "metadata": {},
   "outputs": [],
   "source": [
    "import os\n",
    "from dotenv import load_dotenv\n",
    "import pandas as pd\n",
    "import xml.etree.ElementTree as ET\n",
    "from fuzzywuzzy import fuzz"
   ]
  },
  {
   "cell_type": "code",
   "execution_count": 65,
   "metadata": {},
   "outputs": [
    {
     "data": {
      "text/plain": [
       "True"
      ]
     },
     "execution_count": 65,
     "metadata": {},
     "output_type": "execute_result"
    }
   ],
   "source": [
    "load_dotenv()"
   ]
  },
  {
   "cell_type": "code",
   "execution_count": 66,
   "metadata": {},
   "outputs": [],
   "source": [
    "# Get the file paths from the environment variables\n",
    "csv_file = os.getenv('CSV_FILE_PATH')\n",
    "alto_file = os.getenv('ALTO_FILE_PATH')\n",
    "\n",
    "# Check if the environment variables are set\n",
    "if csv_file is None:\n",
    "    raise ValueError(\"The environment variable 'CSV_FILE_PATH' is not set in the .env file.\")\n",
    "if alto_file is None:\n",
    "    raise ValueError(\"The environment variable 'ALTO_FILE_PATH' is not set in the .env file.\")\n",
    "\n",
    "# Read the CSV file\n",
    "df = pd.read_csv(csv_file, delimiter=';')\n",
    "df = df[['Page', 'Line', 'Text']].dropna()"
   ]
  },
  {
   "cell_type": "code",
   "execution_count": 61,
   "metadata": {},
   "outputs": [
    {
     "data": {
      "text/html": [
       "<div>\n",
       "<style scoped>\n",
       "    .dataframe tbody tr th:only-of-type {\n",
       "        vertical-align: middle;\n",
       "    }\n",
       "\n",
       "    .dataframe tbody tr th {\n",
       "        vertical-align: top;\n",
       "    }\n",
       "\n",
       "    .dataframe thead th {\n",
       "        text-align: right;\n",
       "    }\n",
       "</style>\n",
       "<table border=\"1\" class=\"dataframe\">\n",
       "  <thead>\n",
       "    <tr style=\"text-align: right;\">\n",
       "      <th></th>\n",
       "      <th>Page</th>\n",
       "      <th>Line</th>\n",
       "      <th>Text</th>\n",
       "    </tr>\n",
       "  </thead>\n",
       "  <tbody>\n",
       "    <tr>\n",
       "      <th>4</th>\n",
       "      <td>1</td>\n",
       "      <td>1</td>\n",
       "      <td>Diari de les excavacions en el poblat de TEST</td>\n",
       "    </tr>\n",
       "    <tr>\n",
       "      <th>5</th>\n",
       "      <td>1</td>\n",
       "      <td>2</td>\n",
       "      <td>Sant Andreu d’Ullastret.</td>\n",
       "    </tr>\n",
       "    <tr>\n",
       "      <th>6</th>\n",
       "      <td>1</td>\n",
       "      <td>3</td>\n",
       "      <td>Antecedents i Bibliografia – a part d’una nota...</td>\n",
       "    </tr>\n",
       "    <tr>\n",
       "      <th>7</th>\n",
       "      <td>1</td>\n",
       "      <td>4</td>\n",
       "      <td>ment publicada referent a aquest poblat, en el...</td>\n",
       "    </tr>\n",
       "    <tr>\n",
       "      <th>8</th>\n",
       "      <td>1</td>\n",
       "      <td>5</td>\n",
       "      <td>lum de VII-VIII de la Revista Empúries, corre...</td>\n",
       "    </tr>\n",
       "  </tbody>\n",
       "</table>\n",
       "</div>"
      ],
      "text/plain": [
       "  Page Line                                               Text\n",
       "4    1    1      Diari de les excavacions en el poblat de TEST\n",
       "5    1    2                           Sant Andreu d’Ullastret.\n",
       "6    1    3  Antecedents i Bibliografia – a part d’una nota...\n",
       "7    1    4  ment publicada referent a aquest poblat, en el...\n",
       "8    1    5   lum de VII-VIII de la Revista Empúries, corre..."
      ]
     },
     "execution_count": 61,
     "metadata": {},
     "output_type": "execute_result"
    }
   ],
   "source": [
    "df.head()"
   ]
  },
  {
   "cell_type": "code",
   "execution_count": 56,
   "metadata": {},
   "outputs": [],
   "source": [
    "def update_alto_with_csv(alto_file, df, output_dir='output', similarity_threshold=90):\n",
    "    # Parse the ALTO XML file\n",
    "    tree = ET.parse(alto_file)\n",
    "    root = tree.getroot()\n",
    "\n",
    "    # Namespace dictionary for ALTO XML\n",
    "    namespaces = {'ns0': 'http://www.loc.gov/standards/alto/ns-v4#'}\n",
    "\n",
    "    # Iterate over each row in the CSV\n",
    "    for index, row in df.iterrows():\n",
    "        page_num = row['Page']\n",
    "        line_num = row['Line']\n",
    "        manual_text = row['Text']\n",
    "\n",
    "        # Find the corresponding text block in the ALTO file\n",
    "        for text_block in root.findall('.//ns0:TextBlock', namespaces):\n",
    "            for text_line in text_block.findall('.//ns0:TextLine', namespaces):\n",
    "                for string in text_line.findall('.//ns0:String', namespaces):\n",
    "                    content = string.attrib.get('CONTENT', '')\n",
    "                    # Calculate similarity score\n",
    "                    similarity_score = fuzz.ratio(content, manual_text)\n",
    "                    if similarity_score >= similarity_threshold:\n",
    "                        # Replace the HTR transcription with the manual transcription\n",
    "                        string.attrib['CONTENT'] = manual_text\n",
    "\n",
    "    # Ensure the output directory exists\n",
    "    os.makedirs(output_dir, exist_ok=True)\n",
    "\n",
    "    # Define the output file path\n",
    "    output_file = os.path.join(output_dir, os.path.basename(alto_file))\n",
    "\n",
    "    # Write the modified ALTO XML to the output file\n",
    "    tree.write(output_file, encoding='utf-8', xml_declaration=True)\n"
   ]
  },
  {
   "cell_type": "code",
   "execution_count": 67,
   "metadata": {},
   "outputs": [],
   "source": [
    "update_alto_with_csv(alto_file, df)"
   ]
  }
 ],
 "metadata": {
  "kernelspec": {
   "display_name": "Python 3",
   "language": "python",
   "name": "python3"
  },
  "language_info": {
   "codemirror_mode": {
    "name": "ipython",
    "version": 3
   },
   "file_extension": ".py",
   "mimetype": "text/x-python",
   "name": "python",
   "nbconvert_exporter": "python",
   "pygments_lexer": "ipython3",
   "version": "3.13.1"
  }
 },
 "nbformat": 4,
 "nbformat_minor": 2
}
