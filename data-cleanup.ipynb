{
 "cells": [
  {
   "cell_type": "code",
   "execution_count": null,
   "metadata": {},
   "outputs": [],
   "source": [
    "import pandas as pd\n",
    "from dotenv import load_dotenv"
   ]
  },
  {
   "cell_type": "code",
   "execution_count": null,
   "metadata": {},
   "outputs": [],
   "source": [
    "load_dotenv()"
   ]
  },
  {
   "cell_type": "code",
   "execution_count": null,
   "metadata": {},
   "outputs": [],
   "source": [
    "# Get the file paths from the environment variables\n",
    "csv_file = os.getenv('CSV_FILE_PATH')\n",
    "alto_path = os.getenv('ALTO_DIR_PATH')\n",
    "output_path = os.getenv('OUTPUT_DIR_PATH')\n",
    "\n",
    "# Check if the environment variables are set\n",
    "if csv_file is None:\n",
    "    raise ValueError(\"The environment variable 'CSV_FILE_PATH' is not set in the .env file.\")\n",
    "if alto_path is None:\n",
    "    raise ValueError(\"The environment variable 'ALTO_DIR_PATH' is not set in the .env file.\")\n",
    "if output_path is None:\n",
    "    raise ValueError(\"The environment variable 'OUTPUT_DIR_PARH' is not set in the .env file.\")"
   ]
  },
  {
   "cell_type": "code",
   "execution_count": null,
   "metadata": {},
   "outputs": [],
   "source": [
    "# Read the CSV file\n",
    "df = pd.read_csv(csv_file, delimiter=';')\n",
    "df = df[['Page', 'Line', 'Text']].dropna()\n",
    "df.head()"
   ]
  },
  {
   "cell_type": "code",
   "execution_count": null,
   "metadata": {},
   "outputs": [],
   "source": [
    "pd.unique(df['Page'])"
   ]
  },
  {
   "cell_type": "code",
   "execution_count": null,
   "metadata": {},
   "outputs": [],
   "source": [
    "len(pd.unique(df['Page']))"
   ]
  },
  {
   "cell_type": "code",
   "execution_count": null,
   "metadata": {},
   "outputs": [],
   "source": [
    "# Function to update page labels\n",
    "def update_page_labels(df):\n",
    "    # Create a mapping of unique page values to new labels\n",
    "    unique_pages = df['Page'].unique()\n",
    "    page_mapping = {page: f'page_{i+1}' for i, page in enumerate(unique_pages)}\n",
    "\n",
    "    # Update the 'Page' column with new labels\n",
    "    df['Page'] = df['Page'].map(page_mapping)\n",
    "\n",
    "    return df\n",
    "\n",
    "# Update the DataFrame\n",
    "df = update_page_labels(df)\n",
    "\n",
    "# Display the updated DataFrame\n",
    "print(df)"
   ]
  },
  {
   "cell_type": "code",
   "execution_count": null,
   "metadata": {},
   "outputs": [],
   "source": [
    "df[df['Page'] == 'page_26']"
   ]
  }
 ],
 "metadata": {
  "language_info": {
   "name": "python"
  }
 },
 "nbformat": 4,
 "nbformat_minor": 2
}
