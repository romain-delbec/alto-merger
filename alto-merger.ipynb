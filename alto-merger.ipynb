{
 "cells": [
  {
   "cell_type": "markdown",
   "metadata": {},
   "source": [
    "# Startup"
   ]
  },
  {
   "cell_type": "markdown",
   "metadata": {},
   "source": [
    "## Library imports"
   ]
  },
  {
   "cell_type": "code",
   "execution_count": null,
   "metadata": {},
   "outputs": [],
   "source": [
    "import os\n",
    "from dotenv import load_dotenv\n",
    "import pandas as pd\n",
    "import xml.etree.ElementTree as ET\n",
    "from fuzzywuzzy import fuzz"
   ]
  },
  {
   "cell_type": "markdown",
   "metadata": {},
   "source": [
    "## Loading environment variables"
   ]
  },
  {
   "cell_type": "code",
   "execution_count": null,
   "metadata": {},
   "outputs": [],
   "source": [
    "load_dotenv()"
   ]
  },
  {
   "cell_type": "code",
   "execution_count": null,
   "metadata": {},
   "outputs": [],
   "source": [
    "# Get the file paths from the environment variables\n",
    "csv_file = os.getenv('CSV_FILE_PATH')\n",
    "alto_path = os.getenv('ALTO_DIR_PATH')\n",
    "output_path = os.getenv('OUTPUT_DIR_PATH')\n",
    "\n",
    "# Check if the environment variables are set\n",
    "if csv_file is None:\n",
    "    raise ValueError(\"The environment variable 'CSV_FILE_PATH' is not set in the .env file.\")\n",
    "if alto_path is None:\n",
    "    raise ValueError(\"The environment variable 'ALTO_DIR_PATH' is not set in the .env file.\")\n",
    "if output_path is None:\n",
    "    raise ValueError(\"The environment variable 'OUTPUT_DIR_PARH' is not set in the .env file.\")"
   ]
  },
  {
   "cell_type": "markdown",
   "metadata": {},
   "source": [
    "## Loading dataset"
   ]
  },
  {
   "cell_type": "code",
   "execution_count": null,
   "metadata": {},
   "outputs": [],
   "source": [
    "# Read the CSV file\n",
    "df = pd.read_csv(csv_file, delimiter=';')\n",
    "df = df[['Page', 'Line', 'Text']].dropna()"
   ]
  },
  {
   "cell_type": "code",
   "execution_count": null,
   "metadata": {},
   "outputs": [],
   "source": [
    "df.head()"
   ]
  },
  {
   "cell_type": "code",
   "execution_count": null,
   "metadata": {},
   "outputs": [],
   "source": [
    "df.shape"
   ]
  },
  {
   "cell_type": "markdown",
   "metadata": {},
   "source": [
    "# Define the function"
   ]
  },
  {
   "cell_type": "code",
   "execution_count": null,
   "metadata": {},
   "outputs": [],
   "source": [
    "# Function to update ALTO XML with manual transcriptions using fuzzy matching\n",
    "def update_alto_with_csv(alto_file, df, output_dir=output_path, similarity_threshold=70):\n",
    "    # Parse the ALTO XML file\n",
    "    tree = ET.parse(alto_file)\n",
    "    root = tree.getroot()\n",
    "\n",
    "    # Namespace dictionary for ALTO XML\n",
    "    namespaces = {'ns0': 'http://www.loc.gov/standards/alto/ns-v4#'}\n",
    "\n",
    "    # Track replaced lines and their content\n",
    "    replaced_lines = set()\n",
    "    line_contents = {}\n",
    "\n",
    "    # Iterate over each row in the CSV\n",
    "    for index, row in df.iterrows():\n",
    "        page_num = row['Page']\n",
    "        line_num = row['Line']\n",
    "        manual_text = row['Text']\n",
    "        best_match = None\n",
    "        best_score = 0\n",
    "\n",
    "        # Find the corresponding text block in the ALTO file\n",
    "        for text_block in root.findall('.//ns0:TextBlock', namespaces):\n",
    "            for text_line in text_block.findall('.//ns0:TextLine', namespaces):\n",
    "                for string in text_line.findall('.//ns0:String', namespaces):\n",
    "                    content = string.attrib.get('CONTENT', '')\n",
    "                    line_contents[(page_num, line_num)] = content\n",
    "                    # Calculate similarity score\n",
    "                    similarity_score = fuzz.ratio(content, manual_text)\n",
    "                    if similarity_score > best_score:\n",
    "                        best_score = similarity_score\n",
    "                        best_match = string\n",
    "\n",
    "        # Replace with the best match if it meets the threshold\n",
    "        if best_match is not None and best_score >= similarity_threshold:\n",
    "            best_match.attrib['CONTENT'] = manual_text\n",
    "            replaced_lines.add((page_num, line_num))\n",
    "\n",
    "    # Ensure the output directory exists\n",
    "    os.makedirs(output_dir, exist_ok=True)\n",
    "\n",
    "    # Define the output file path\n",
    "    output_file = os.path.join(output_dir, os.path.basename(alto_file))\n",
    "\n",
    "    # Write the modified ALTO XML to the output file without namespace prefixes\n",
    "    ET.register_namespace('', 'http://www.loc.gov/standards/alto/ns-v4#')\n",
    "    tree.write(output_file, encoding='utf-8', xml_declaration=True, default_namespace=None)\n",
    "\n",
    "    return replaced_lines, line_contents"
   ]
  },
  {
   "cell_type": "markdown",
   "metadata": {},
   "source": [
    "# Run the function on the dataset"
   ]
  },
  {
   "cell_type": "code",
   "execution_count": null,
   "metadata": {},
   "outputs": [],
   "source": [
    "# List all files in the directory\n",
    "filenames = os.listdir(alto_path)\n",
    "\n",
    "# Filter and sort the filenames alphabetically\n",
    "xml_files = sorted([filename for filename in filenames if filename.endswith('.xml')])\n",
    "\n",
    "all_replaced_lines = set()\n",
    "all_line_contents = {}\n",
    "\n",
    "# Process each ALTO XML file in the directory\n",
    "for filename in xml_files:\n",
    "    if filename.endswith('.xml'):\n",
    "        alto_file = os.path.join(alto_path, filename)\n",
    "        replaced_lines, line_contents = update_alto_with_csv(alto_file, df)\n",
    "        all_replaced_lines.update(replaced_lines)\n",
    "        all_line_contents.update(line_contents)\n",
    "\n",
    "# Check for lines that were not replaced in any file\n",
    "for index, row in df.iterrows():\n",
    "    page_num = row['Page']\n",
    "    line_num = row['Line']\n",
    "    text = row['Text']\n",
    "    if (page_num, line_num) not in all_replaced_lines:\n",
    "        print(f\"Warning: Line {line_num} on {page_num} was not replaced in any file. Content: '{text}'\")"
   ]
  }
 ],
 "metadata": {
  "kernelspec": {
   "display_name": "Python 3",
   "language": "python",
   "name": "python3"
  },
  "language_info": {
   "codemirror_mode": {
    "name": "ipython",
    "version": 3
   },
   "file_extension": ".py",
   "mimetype": "text/x-python",
   "name": "python",
   "nbconvert_exporter": "python",
   "pygments_lexer": "ipython3",
   "version": "3.13.1"
  }
 },
 "nbformat": 4,
 "nbformat_minor": 2
}
